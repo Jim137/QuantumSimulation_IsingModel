{
 "cells": [
  {
   "cell_type": "markdown",
   "source": [
    "# Exact solution for transverse Ising model\n"
   ],
   "metadata": {
    "collapsed": false,
    "pycharm": {
     "name": "#%% md\n"
    }
   }
  },
  {
   "cell_type": "markdown",
   "source": [
    "## Jordan-Wigner Transformation\n",
    "This transformation maps the spin raising and lowering operators into fermion creation and annihilation operators. For detail, raising and lowering operators $S^{\\pm}$ work as\n",
    "\n",
    "\\begin{align}\n",
    "    S^+|\\downarrow\\rangle = |\\uparrow\\rangle \\quad , \\quad S^-|\\uparrow\\rangle = |\\downarrow\\rangle\n",
    "\\end{align}\n",
    "\n",
    "and the creation and annihilation operators $c^{\\pm}$ work as\n",
    "\n",
    "\\begin{align}\n",
    "    c^+|0\\rangle = |1\\rangle \\quad , \\quad c^-|1\\rangle = |0\\rangle\n",
    "\\end{align}\n",
    "\n",
    "the state $|0\\rangle$ means there is no fermion, and state $|1\\rangle$ means there is a fermion. Now, let us see some property of raising and lowering operators, first the operators look like (here we let $\\hbar$ = 1)\n",
    "\n",
    "\\begin{align}\n",
    "    S^+ = S^x + iS^y = \\frac{\\sigma^{x}+i\\sigma^{y}}{2} = \\left(\\begin{array}{cc}\n",
    "                                0 & 1 \\\\\n",
    "                                0 & 0\n",
    "                                \\end{array}\\right) \\quad , \\quad\n",
    "    S^- = S^x - iS^y = \\frac{\\sigma^{x}-i\\sigma^{y}}{2} = \\left(\\begin{array}{cc}\n",
    "                                0 & 0 \\\\\n",
    "                                1 & 0\n",
    "                                \\end{array}\\right)\n",
    "\\end{align}\n",
    "\n",
    "and the relation between $S^{\\pm}$ is\n",
    "\n",
    "\\begin{align}\n",
    "    \\left[ S^{\\pm}, S^{\\pm} \\right] = 0 \\quad , \\quad \\{S^-, S^+\\} = 1\n",
    "\\end{align}\n",
    "\n",
    "The whole story about Jordan-Wigner transformation is to find the relations about\n",
    "\n",
    "\\begin{align}\n",
    "    S^+\\rightarrow c^+_j = c_j^{\\dagger} \\quad , \\quad S^-\\rightarrow c^-_j = c_j\n",
    "\\end{align}\n",
    "\n",
    "After the transformation, we require that $c_{j}$ should obey the following rules. $|\\Omega_c\\rangle$ is the vacuum state which looks like $|00\\cdots 00\\rangle$.\n",
    "\n",
    "\\begin{align}\n",
    "    \\{ c_{i}, c_{j} \\} = 0 \\quad , \\quad \\{ c_{i}, c_{j}^{\\dagger}\\} = \\delta_{ij} \\quad , \\quad c_{i}|\\Omega_c\\rangle = 0\n",
    "\\end{align}\n",
    "\n",
    "Notice that $S^{\\pm}$ are local operators but $c_j$, $c_j^{\\dagger}$ are global operators, the antisymmetry property $\\{ c_{i}, c_{j} \\} = 0$ is the most import difference between $S^{\\pm}$ and $c_j$, $c_j^{\\dagger}$. In order to satisfy this condition, the transformation is\n",
    "\n",
    "\\begin{align}\n",
    "    c_{j} = \\left(\\bigotimes_{l<j}\\sigma^{z}_{l}\\right)\\otimes S^-_j\\otimes \\left(\\bigotimes_{j<l}\\mathbb{I}_{l}\\right), \\qquad c_{j}^{\\dagger} = \\left(\\bigotimes_{l<j}\\sigma^{z}_{l}\\right)\\otimes S^+_j\\otimes \\left(\\bigotimes_{j<l}\\mathbb{I}_{l}\\right)\n",
    "\\end{align}\n",
    "\n",
    "Let's see a concrete example that show how the transformation makes $\\{ S^{\\pm}, S^{\\pm}\\} \\neq 0$ into $\\{ c_{i}, c_{j} \\} = 0$. Suppose a system only with three fermions which denote as 1, 2, 3, then we can write\n",
    "\n",
    "\\begin{align}\n",
    "    c_2 = \\sigma^{z}_1\\otimes S^-_2 \\otimes \\mathbb{I}_{3}\n",
    "    \\quad , \\quad\n",
    "    c_3 = \\sigma^{z}_1\\otimes \\sigma^{z}_2 \\otimes S^-_3\n",
    "\\end{align}\n",
    "\n",
    "then the $\\{ c_{2}, c_{3} \\}$ is\n",
    "\n",
    "\\begin{align}\n",
    "    \\{ c_{2}, c_{3} \\} = c_{2}c_{3} + c_{3}c_{2}\n",
    "    &= \\mathbb{I}_{1} \\otimes S^-_2\\sigma^{z}_2 \\otimes S^-_3 + \\mathbb{I}_{1} \\otimes \\sigma^{z}_2 S^-_2 \\otimes S^-_3 \\\\\n",
    "    &= \\mathbb{I}_{1} \\otimes (S^-_2\\sigma^{z}_2 + \\sigma^{z}_2 S^-_2) \\otimes S^-_3 \\\\\n",
    "    & = \\mathbb{I}_{1} \\otimes 0 \\otimes S^-_3 = 0\n",
    "\\end{align}"
   ],
   "metadata": {
    "collapsed": false,
    "pycharm": {
     "name": "#%% md\n"
    }
   }
  },
  {
   "cell_type": "code",
   "execution_count": 14,
   "outputs": [],
   "source": [
    "import matplotlib.pyplot as plt\n",
    "from src import *\n",
    "from qiskit import QuantumCircuit\n",
    "from qiskit.quantum_info import Operator\n",
    "from qiskit.tools.visualization import array_to_latex"
   ],
   "metadata": {
    "collapsed": false,
    "pycharm": {
     "name": "#%%\n"
    }
   }
  },
  {
   "cell_type": "markdown",
   "source": [
    "Fermionic SWAP gate (fSWAP) looks like"
   ],
   "metadata": {
    "collapsed": false,
    "pycharm": {
     "name": "#%% md\n"
    }
   }
  },
  {
   "cell_type": "code",
   "execution_count": null,
   "outputs": [],
   "source": [
    "qc = QuantumCircuit(2)\n",
    "fSWAP(qc, 0, 1)\n",
    "array_to_latex(Operator(qc))"
   ],
   "metadata": {
    "collapsed": false,
    "pycharm": {
     "name": "#%%\n",
     "is_executing": true
    }
   }
  },
  {
   "cell_type": "markdown",
   "source": [
    "## Fourier Transform"
   ],
   "metadata": {
    "collapsed": false,
    "pycharm": {
     "name": "#%% md\n"
    }
   }
  },
  {
   "cell_type": "code",
   "execution_count": null,
   "outputs": [],
   "source": [
    "qc = QuantumCircuit(2)\n",
    "F0(qc, 0, 1)\n",
    "array_to_latex(Operator(qc))"
   ],
   "metadata": {
    "collapsed": false,
    "pycharm": {
     "name": "#%%\n",
     "is_executing": true
    }
   }
  },
  {
   "cell_type": "code",
   "execution_count": null,
   "outputs": [],
   "source": [
    "qc = QuantumCircuit(2)\n",
    "F1(qc, 0, 1)\n",
    "array_to_latex(Operator(qc))"
   ],
   "metadata": {
    "collapsed": false,
    "pycharm": {
     "name": "#%%\n",
     "is_executing": true
    }
   }
  },
  {
   "cell_type": "code",
   "execution_count": 15,
   "outputs": [
    {
     "data": {
      "text/plain": "<Figure size 1290.6x264.88 with 1 Axes>",
      "image/png": "[encoded data removed]"
     },
     "execution_count": 15,
     "metadata": {},
     "output_type": "execute_result"
    }
   ],
   "source": [
    "from qiskit import QuantumRegister, QuantumCircuit\n",
    "q = QuantumRegister(4, \"q\")\n",
    "qc = QuantumCircuit(4)\n",
    "Udisg(qc,1,q[0],q[1],q[2],q[3])\n",
    "qc.draw(\"mpl\")"
   ],
   "metadata": {
    "collapsed": false,
    "pycharm": {
     "name": "#%%\n"
    }
   }
  },
  {
   "cell_type": "code",
   "execution_count": 6,
   "outputs": [],
   "source": [
    "from qiskit import Aer, execute, ClassicalRegister, QuantumRegister"
   ],
   "metadata": {
    "collapsed": false,
    "pycharm": {
     "name": "#%%\n"
    }
   }
  },
  {
   "cell_type": "code",
   "execution_count": null,
   "outputs": [],
   "source": [
    "q = QuantumRegister(4, \"q\")\n",
    "c = ClassicalRegister(4, \"c\")\n",
    "Udis = QuantumCircuit(q, c)\n",
    "# Udis.draw(\"mpl\")\n",
    "# plt.show()\n",
    "ini = QuantumCircuit(q, c)\n",
    "mes = QuantumCircuit(q, c)\n",
    "Isex = QuantumCircuit(q, c)\n",
    "lam = 0.25\n",
    "Ising(Isex,ini, Udis ,mes,lam,q[0],q[1],q[2],q[3],c[0],c[1],c[2],c[3])\n",
    "Isex.draw(\"mpl\")"
   ],
   "metadata": {
    "collapsed": false,
    "pycharm": {
     "name": "#%%\n",
     "is_executing": true
    }
   }
  },
  {
   "cell_type": "code",
   "execution_count": null,
   "outputs": [],
   "source": [
    "# use local simulator\n",
    "shots = 1024\n",
    "backend = Aer.get_backend('qasm_simulator')\n",
    "mag_sim = []\n",
    "for i in range(8):\n",
    "    q = QuantumRegister(4, \"q\")\n",
    "    c = ClassicalRegister(4, \"c\")\n",
    "    Udis = QuantumCircuit(q, c)\n",
    "    # Udis.draw(\"mpl\")\n",
    "    # plt.show()\n",
    "    ini = QuantumCircuit(q, c)\n",
    "    mes = QuantumCircuit(q, c)\n",
    "    Isex = QuantumCircuit(q, c)\n",
    "    # Isex.draw(\"mpl\")\n",
    "    # plt.show()\n",
    "\n",
    "    lam = i*0.25\n",
    "    Ising(Isex,ini, Udis ,mes,lam,q[0],q[1],q[2],q[3],c[0],c[1],c[2],c[3])\n",
    "    # ini.draw(\"mpl\")\n",
    "    # plt.show()\n",
    "    # Udis.draw(\"mpl\")\n",
    "    # plt.show()\n",
    "    # mes.draw(\"mpl\")\n",
    "    # plt.show()\n",
    "    if i == 0:\n",
    "        Isex.draw(\"mpl\")\n",
    "        plt.savefig(\"./quantum_circuit_for_1D_4_spin_ising_model.png\")\n",
    "        plt.show()\n",
    "        plt.clf()\n",
    "        # plt.show()\n",
    "\n",
    "    job = execute(Isex, backend, shots=shots)\n",
    "    result = job.result()\n",
    "    counts = result.get_counts()\n",
    "\n",
    "    r1 = list(counts.keys())\n",
    "    r2 = list(counts.values())\n",
    "    M=0\n",
    "    for j in range(0,len(r1)):\n",
    "        M=M+(4-2*digit_sum(r1[j]))*r2[j]/shots\n",
    "    print(\"$\\lambda$: \",lam,\", $<\\sigma_{z}>$: \",M/4)\n",
    "    mag_sim.append(M/4)\n",
    "\n",
    "vexact = np.vectorize(exact)\n",
    "plot_Mag_of_ground_state(vexact, mag_sim)"
   ],
   "metadata": {
    "collapsed": false,
    "pycharm": {
     "name": "#%%\n",
     "is_executing": true
    }
   }
  },
  {
   "cell_type": "code",
   "execution_count": null,
   "outputs": [],
   "source": [
    "# use local simulator\n",
    "shots = 1024\n",
    "backend = Aer.get_backend('qasm_simulator')\n",
    "# We compute the time evolution for lambda=0.5,0.9 and 1.8\n",
    "nlam=3\n",
    "magt_sim=[[] for _ in range(nlam)]\n",
    "lam0=[0.5,0.9,1.8]\n",
    "for j in range(nlam):\n",
    "    lam=lam0[j]\n",
    "    for i in range(9):\n",
    "        q = QuantumRegister(4, \"q\")\n",
    "        c = ClassicalRegister(4, \"c\")\n",
    "        Udis = QuantumCircuit(q, c)\n",
    "        # Udis.draw(\"mpl\")\n",
    "        # plt.show()\n",
    "        ini = QuantumCircuit(q, c)\n",
    "        mes = QuantumCircuit(q, c)\n",
    "        Isex_time = QuantumCircuit(q, c)\n",
    "\n",
    "        t = i * 0.25\n",
    "\n",
    "        Ising_time(Isex_time, ini, Udis, mes, lam, t, q[0], q[1], q[2], q[3], c[0], c[1], c[2], c[3])\n",
    "\n",
    "        job = execute(Isex_time, backend, shots=shots)\n",
    "        result = job.result()\n",
    "        counts = result.get_counts()\n",
    "        r1 = list(counts.keys())\n",
    "        r2 = list(counts.values())\n",
    "        M = 0\n",
    "        for k in range(0, len(r1)):\n",
    "            M = M + (4 - 2 * digit_sum(r1[k])) * r2[k] / shots\n",
    "        magt_sim[j].append(M / 4)\n",
    "\n",
    "vexact_t = np.vectorize(exact_time)\n",
    "plot_Time_evolution_all_up_state(vexact_t, magt_sim)"
   ],
   "metadata": {
    "collapsed": false,
    "pycharm": {
     "name": "#%%\n",
     "is_executing": true
    }
   }
  }
 ],
 "metadata": {
  "kernelspec": {
   "display_name": "Python 3",
   "language": "python",
   "name": "python3"
  },
  "language_info": {
   "codemirror_mode": {
    "name": "ipython",
    "version": 2
   },
   "file_extension": ".py",
   "mimetype": "text/x-python",
   "name": "python",
   "nbconvert_exporter": "python",
   "pygments_lexer": "ipython2",
   "version": "2.7.6"
  }
 },
 "nbformat": 4,
 "nbformat_minor": 0
}